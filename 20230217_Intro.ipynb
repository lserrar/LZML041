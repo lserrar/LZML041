{
 "cells": [
  {
   "cell_type": "code",
   "execution_count": null,
   "id": "5b990a3b-f44f-403c-be9b-813bcab1f525",
   "metadata": {},
   "outputs": [],
   "source": [
    "#0... Let's check your python version !\n",
    "import sys\n",
    "print(sys.executable)\n",
    "print(sys.version)\n",
    "print(sys.version_info)"
   ]
  },
  {
   "cell_type": "code",
   "execution_count": null,
   "id": "894facf6-fce6-4c51-bcb3-e6db1c130d06",
   "metadata": {},
   "outputs": [],
   "source": [
    "# Exemple 1 : ce code sert à ....\n",
    "spam = 1  # et je définis ici une variable spam qui vaut 1\n",
    "# ... attention au contre-exmple ci-dessous\n",
    "text = \"# Ceci n'est pas un commentaire car entre guillemet et donc un text.\""
   ]
  },
  {
   "cell_type": "code",
   "execution_count": null,
   "id": "bac85dd2-4169-462d-bca4-8c5738730f5b",
   "metadata": {},
   "outputs": [],
   "source": [
    "#Pour connaître le type d’une donnée ou le type de la valeur d’une variable, il suffit d’utiliser la fonction type().\n",
    "type(15)"
   ]
  },
  {
   "cell_type": "code",
   "execution_count": null,
   "id": "ca704730-a796-4b14-8144-b69c37061bf3",
   "metadata": {},
   "outputs": [],
   "source": [
    "# Le type int (entier)\n",
    "x = 18\n",
    "type(x)"
   ]
  },
  {
   "cell_type": "code",
   "execution_count": null,
   "id": "af7760e9-a81e-44db-90fd-7463e13916bd",
   "metadata": {},
   "outputs": [],
   "source": [
    "# Le type float (flottant)\n",
    "x = 18.18\n",
    "type(x)"
   ]
  },
  {
   "cell_type": "code",
   "execution_count": null,
   "id": "f262661a-893c-4add-8cf7-cc44b4aa2cdc",
   "metadata": {},
   "outputs": [],
   "source": [
    "#Le type str (chaîne de caractères)\n",
    "x = \"toto\"\n",
    "type(x)"
   ]
  },
  {
   "cell_type": "code",
   "execution_count": null,
   "id": "9dd0ee44-f283-4221-9df0-196dcdde6494",
   "metadata": {},
   "outputs": [],
   "source": [
    "#Le type bool (booléen)\n",
    "x = True\n",
    "type(x)"
   ]
  },
  {
   "cell_type": "code",
   "execution_count": null,
   "id": "6167b3c6-0a2c-4e24-8b7e-974ac65690ad",
   "metadata": {},
   "outputs": [],
   "source": [
    "y = not(x)"
   ]
  },
  {
   "cell_type": "code",
   "execution_count": null,
   "id": "7152ec08-d5f6-4800-b107-0372f89e995d",
   "metadata": {},
   "outputs": [],
   "source": [
    "y"
   ]
  },
  {
   "cell_type": "code",
   "execution_count": null,
   "id": "aa73f77d-6b32-4485-9267-f75d9f56c156",
   "metadata": {},
   "outputs": [],
   "source": [
    "#Le type complex (complexe)\n",
    "x = 9 + 7j\n",
    "type(x)"
   ]
  },
  {
   "cell_type": "code",
   "execution_count": null,
   "id": "ee78a361-4b4f-48d2-99f3-267d491c689f",
   "metadata": {},
   "outputs": [],
   "source": [
    "x"
   ]
  },
  {
   "cell_type": "code",
   "execution_count": null,
   "id": "34c8bb11-fc10-4915-9fde-fef8ed9a17c2",
   "metadata": {},
   "outputs": [],
   "source": [
    "#attention x prend la denière valeur du code que vous avez execute !"
   ]
  },
  {
   "cell_type": "code",
   "execution_count": null,
   "id": "c3aef791-4820-4a2a-b19c-ffff15425095",
   "metadata": {},
   "outputs": [],
   "source": [
    "# si vous oubliez de définir correctement une variable !\n",
    "C"
   ]
  },
  {
   "cell_type": "code",
   "execution_count": null,
   "id": "2545f4e0-5e9b-4b6e-b07b-d6333b65422a",
   "metadata": {},
   "outputs": [],
   "source": [
    "#tuples\n",
    "a = (3, 4, 7)\n",
    "type(a)"
   ]
  },
  {
   "cell_type": "code",
   "execution_count": null,
   "id": "d1f0bb81-3e38-40c2-84d1-892eb46b47be",
   "metadata": {},
   "outputs": [],
   "source": [
    "# Les listes\n",
    "a = [] # declaration d'une list vide\n",
    "animaux = [\"girafe\", \"tigre\", \"singe\", \"souris\"]\n",
    "tailles = [5, 2.5, 1.75, 0.15]\n",
    "mixte = [\"girafe\", 8, \"souris\", 0.18]"
   ]
  },
  {
   "cell_type": "code",
   "execution_count": null,
   "id": "3500bf1e-ef6e-4de9-97e6-fc4ee92c699e",
   "metadata": {},
   "outputs": [],
   "source": [
    "mixte[0]"
   ]
  },
  {
   "cell_type": "code",
   "execution_count": null,
   "id": "ad512b53-abab-490d-b707-a6ce1439246a",
   "metadata": {},
   "outputs": [],
   "source": [
    "#'instruction len() vous permet de connaître la longueur d'une liste\n",
    "len(animaux)"
   ]
  },
  {
   "cell_type": "code",
   "execution_count": null,
   "id": "e2c57150-57b7-4cc5-b5e7-15307b89928b",
   "metadata": {},
   "outputs": [],
   "source": [
    "animaux[4]"
   ]
  },
  {
   "cell_type": "code",
   "execution_count": null,
   "id": "8c062f71-aeaa-4a5f-b638-fc4652de33e3",
   "metadata": {},
   "outputs": [],
   "source": [
    "animaux[-1]"
   ]
  },
  {
   "cell_type": "code",
   "execution_count": null,
   "id": "1ff8133c-8ce0-47b3-8a63-2038ec042cc1",
   "metadata": {},
   "outputs": [],
   "source": [
    "#attention l'indice des listes commence à zero !"
   ]
  },
  {
   "cell_type": "code",
   "execution_count": null,
   "id": "84b18343-3604-4063-a96c-732282270068",
   "metadata": {},
   "outputs": [],
   "source": [
    "animaux+[\"lionne\"]"
   ]
  },
  {
   "cell_type": "code",
   "execution_count": null,
   "id": "7265014a-2cd5-4ad6-9894-797e8b2189bc",
   "metadata": {},
   "outputs": [],
   "source": [
    "animaux"
   ]
  },
  {
   "cell_type": "code",
   "execution_count": null,
   "id": "bf8039f3-42b6-4052-8e7c-a2d5cdf7ec53",
   "metadata": {},
   "outputs": [],
   "source": [
    "animaux=animaux+[\"lionne\"]"
   ]
  },
  {
   "cell_type": "code",
   "execution_count": null,
   "id": "02335adc-dd9b-47dc-b0bf-384dc33f0179",
   "metadata": {},
   "outputs": [],
   "source": [
    "animaux"
   ]
  },
  {
   "cell_type": "code",
   "execution_count": null,
   "id": "e9e55001-88c5-44ec-98d3-192dd567e845",
   "metadata": {},
   "outputs": [],
   "source": [
    "animaux.append(45)"
   ]
  },
  {
   "cell_type": "code",
   "execution_count": null,
   "id": "b437867d-d589-4ae1-83c3-d8fedd14cf29",
   "metadata": {},
   "outputs": [],
   "source": [
    "animaux"
   ]
  },
  {
   "cell_type": "code",
   "execution_count": null,
   "id": "7546e65c-2456-474f-afaa-6248a3437df0",
   "metadata": {},
   "outputs": [],
   "source": [
    "animaux[-1]"
   ]
  },
  {
   "cell_type": "code",
   "execution_count": null,
   "id": "59c935d3-c4d4-4b7b-bcb2-9ce6958b7926",
   "metadata": {},
   "outputs": [],
   "source": [
    "# une tranche de liste\n",
    "animaux[1:4]"
   ]
  },
  {
   "cell_type": "code",
   "execution_count": null,
   "id": "af4d9e26-9579-48dd-ae68-1dd113ce9d13",
   "metadata": {},
   "outputs": [],
   "source": [
    "# Liste de listes\n",
    "enclos1 = [\"girafe\", 4]\n",
    "enclos2 = [\"tigre\", 2]\n",
    "enclos3 = [\"singe\", 5]\n",
    "zoo = [enclos1, enclos2, enclos3]"
   ]
  },
  {
   "cell_type": "code",
   "execution_count": null,
   "id": "6f3afdca-817c-41e6-902f-8e7b43dbf071",
   "metadata": {},
   "outputs": [],
   "source": [
    "zoo"
   ]
  },
  {
   "cell_type": "code",
   "execution_count": null,
   "id": "28c40fbe-26f8-418d-ab8c-e82f78715bcf",
   "metadata": {},
   "outputs": [],
   "source": [
    "# Dictionnaires\n",
    "dict_test = {\"voiture\": \"quatre roues\", \"vélo\": \"deux roues\"}"
   ]
  },
  {
   "cell_type": "code",
   "execution_count": null,
   "id": "27a12ee8-5543-449d-b71c-778452dff41c",
   "metadata": {},
   "outputs": [],
   "source": [
    "type(dict_test)"
   ]
  },
  {
   "cell_type": "code",
   "execution_count": null,
   "id": "6a368908-0e23-4cdb-b939-24468fe0e2f0",
   "metadata": {},
   "outputs": [],
   "source": [
    "#On accède à une valeur du dictionnaire en utilisant la clé entourée par des crochets avec la syntaxe suivante\n",
    "dict_test [\"voiture\"]"
   ]
  },
  {
   "cell_type": "code",
   "execution_count": null,
   "id": "2b341115-373d-4c55-aad1-5a498abd5ee6",
   "metadata": {},
   "outputs": [],
   "source": [
    "#Pour ajouter un élément à un dictionnaire, il suffit d’affecter une valeur pour la nouvelle clé.\n",
    "dict_test[\"bateau\"]=\"ocean\"\n"
   ]
  },
  {
   "cell_type": "code",
   "execution_count": null,
   "id": "8d7631f0-1aae-4682-b8db-658b40a760ab",
   "metadata": {},
   "outputs": [],
   "source": [
    "dict_test"
   ]
  },
  {
   "cell_type": "code",
   "execution_count": null,
   "id": "2f288f60-679f-4d7a-8325-3ab3a381b66e",
   "metadata": {},
   "outputs": [],
   "source": [
    "#pour parcourir un dictionnaire"
   ]
  },
  {
   "cell_type": "code",
   "execution_count": null,
   "id": "ba49d5d1-a72d-43e4-88cf-17ad770c2c11",
   "metadata": {},
   "outputs": [],
   "source": [
    "for cle, valeur in dict_test.items():\n",
    "        print(\"l'élément de clé\", cle, \"vaut\", valeur)"
   ]
  },
  {
   "cell_type": "code",
   "execution_count": null,
   "id": "8d20d61c-ad64-4bd4-926c-bb7a2d705ed6",
   "metadata": {},
   "outputs": [],
   "source": [
    "pip install pandas"
   ]
  },
  {
   "cell_type": "code",
   "execution_count": null,
   "id": "060328c2-7bcd-4e4e-a874-b29546b5758a",
   "metadata": {},
   "outputs": [],
   "source": [
    "import numpy as np # linear algebra\n",
    "import os # accessing directory structure\n",
    "import pandas as pd # data processing, CSV file I/O (e.g. pd.read_csv)"
   ]
  },
  {
   "cell_type": "code",
   "execution_count": null,
   "id": "b850a6da-221f-4166-992c-3337662191c2",
   "metadata": {},
   "outputs": [],
   "source": [
    "# étape 1: mettre le fichier sur votre poste C:\\Users\\loubn\\Codes_Cours pour moi\n",
    "nRowsRead = 1000 # specify 'None' if want to read whole file\n",
    "# Bitcoin_tweets.csv may have more rows in reality, but we are only loading/previewing the first 1000 rows\n",
    "df = pd.read_csv('Bitcoin_data.csv', delimiter=',', nrows = nRowsRead)\n",
    "df.dataframeName = 'Bitcoin_data.csv'\n",
    "nRow, nCol = df.shape\n",
    "print(f'There are {nRow} rows and {nCol} columns')"
   ]
  },
  {
   "cell_type": "code",
   "execution_count": null,
   "id": "bc72afb6-0b44-4e39-acab-18ce08f0c32e",
   "metadata": {},
   "outputs": [],
   "source": [
    "df.head(5)"
   ]
  },
  {
   "cell_type": "code",
   "execution_count": null,
   "id": "9e0f6fa9-8e52-4b11-b830-4c876cb702d4",
   "metadata": {},
   "outputs": [],
   "source": [
    "df.drop(columns=df.columns[0],axis=1,inplace=True)\n"
   ]
  },
  {
   "cell_type": "code",
   "execution_count": null,
   "id": "1a5187ce-1801-4616-8f22-79d42ffbaafa",
   "metadata": {},
   "outputs": [],
   "source": [
    "df.head(5)"
   ]
  },
  {
   "cell_type": "code",
   "execution_count": null,
   "id": "b346afec-bed4-4d05-b489-a602f841f774",
   "metadata": {},
   "outputs": [],
   "source": [
    "print(df.loc[0])"
   ]
  },
  {
   "cell_type": "code",
   "execution_count": null,
   "id": "9449b206-007b-43de-b231-e237d3c3eed3",
   "metadata": {},
   "outputs": [],
   "source": [
    "text=df['Tweet']\n"
   ]
  },
  {
   "cell_type": "code",
   "execution_count": null,
   "id": "dd8e1ed0-2d35-4fc7-92f4-df446f77b7c6",
   "metadata": {},
   "outputs": [],
   "source": [
    "text.head(5)"
   ]
  },
  {
   "cell_type": "code",
   "execution_count": null,
   "id": "b47cf542-a4f4-455f-9d1a-9e1c66c3c7f2",
   "metadata": {},
   "outputs": [],
   "source": [
    "text.shape"
   ]
  },
  {
   "cell_type": "code",
   "execution_count": null,
   "id": "584959fb-d35e-4402-8881-bffafc510a25",
   "metadata": {},
   "outputs": [],
   "source": [
    "print(text[0])"
   ]
  },
  {
   "cell_type": "code",
   "execution_count": null,
   "id": "467acc6e-4237-4d7a-be1a-c0798dd86f74",
   "metadata": {},
   "outputs": [],
   "source": [
    "#Data transformation\n",
    "print(text[0].lower()) # Converts strings in the Series/Index to lower case."
   ]
  },
  {
   "cell_type": "code",
   "execution_count": null,
   "id": "ade94426-36d9-4783-a20d-17b3f12e1c8a",
   "metadata": {},
   "outputs": [],
   "source": [
    "print(text[0].upper()) # Converts strings in the Series/Index to Upper case."
   ]
  },
  {
   "cell_type": "code",
   "execution_count": null,
   "id": "d07bc9f3-08ae-4d3b-ae22-0962ceaf189f",
   "metadata": {},
   "outputs": [],
   "source": [
    "print(text[0].split())"
   ]
  },
  {
   "cell_type": "code",
   "execution_count": null,
   "id": "c24f8340-6c60-4063-aa4f-37d2481e3f7b",
   "metadata": {},
   "outputs": [],
   "source": [
    "#Make all words lowercase\n",
    "text.str.lower()"
   ]
  },
  {
   "cell_type": "code",
   "execution_count": null,
   "id": "23fe9b76-6bf7-4a58-b7d1-b90f531dfa59",
   "metadata": {},
   "outputs": [],
   "source": [
    "#Strip unnecessary spaces\n",
    "text.str.strip()"
   ]
  },
  {
   "cell_type": "code",
   "execution_count": null,
   "id": "c6b84363-90c6-468a-86c5-4e2edbcdc001",
   "metadata": {},
   "outputs": [],
   "source": [
    "import numpy as np\n",
    "import regex as re\n",
    "from collections import Counter"
   ]
  },
  {
   "cell_type": "code",
   "execution_count": null,
   "id": "5ae5b13d-bf72-4227-bd38-d5ca61629b3f",
   "metadata": {},
   "outputs": [],
   "source": [
    "text.apply(lambda x:str(x.lower()).split())"
   ]
  },
  {
   "cell_type": "code",
   "execution_count": null,
   "id": "0582252d-db04-49dd-8daa-b3dae735735a",
   "metadata": {
    "tags": []
   },
   "outputs": [],
   "source": [
    "words = text.apply(lambda x:str(x.lower()).split())\n",
    "top=Counter([item for sublist in words for item in sublist])\n",
    "top"
   ]
  },
  {
   "cell_type": "code",
   "execution_count": null,
   "id": "43b4d245-dd30-4ffe-b702-26f9bfd71d43",
   "metadata": {},
   "outputs": [],
   "source": [
    "top.most_common(21)"
   ]
  },
  {
   "cell_type": "code",
   "execution_count": null,
   "id": "05114c63-908c-4fff-ad39-f81b8baa5e19",
   "metadata": {},
   "outputs": [],
   "source": [
    "# Stop words !"
   ]
  },
  {
   "cell_type": "code",
   "execution_count": null,
   "id": "7832be5d-efdb-499c-a126-388b3adabc60",
   "metadata": {},
   "outputs": [],
   "source": []
  }
 ],
 "metadata": {
  "kernelspec": {
   "display_name": "Python 3 (ipykernel)",
   "language": "python",
   "name": "python3"
  },
  "language_info": {
   "codemirror_mode": {
    "name": "ipython",
    "version": 3
   },
   "file_extension": ".py",
   "mimetype": "text/x-python",
   "name": "python",
   "nbconvert_exporter": "python",
   "pygments_lexer": "ipython3",
   "version": "3.9.13"
  }
 },
 "nbformat": 4,
 "nbformat_minor": 5
}
